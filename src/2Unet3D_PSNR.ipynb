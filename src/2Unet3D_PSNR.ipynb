{
 "cells": [
  {
   "cell_type": "code",
   "execution_count": 1,
   "metadata": {},
   "outputs": [],
   "source": [
    "import os\n",
    "import sys\n",
    "import random\n",
    "\n",
    "#TODO Make universal imports for all py files?\n",
    "\n",
    "#os.environ[\"CUDA_VISIBLE_DEVICES\"]=\"-1\"\n",
    "import tensorflow as tf\n",
    "from tensorflow import keras\n",
    "from tensorflow.keras.callbacks import EarlyStopping, ModelCheckpoint, ReduceLROnPlateau\n",
    "sys.modules['keras'] = keras\n",
    "\n",
    "import numpy as np\n",
    "\n",
    "from dice import dice_coef, dice_loss\n",
    "from generator import DataGen\n",
    "from visualize import display_slice_from_batch\n",
    "\n",
    "seed = 2019\n",
    "random.seed = seed\n",
    "#TODO make config[seed] and fix below\n",
    "#np.random.seed = seed\n",
    "tf.seed = seed"
   ]
  },
  {
   "cell_type": "code",
   "execution_count": 4,
   "metadata": {},
   "outputs": [],
   "source": [
    "image_size = 48\n",
    "patch_size = 48\n",
    "percent_covered = 0\n",
    "train_path = \"dataset/genPSNR5_5000_48Data/train\"\n",
    "model_path = \"oct13_largeframePSNR5_5000_48_nonzero_standardized_local_more-epochs.h5\"\n",
    "epochs = 70\n",
    "patience = 4\n",
    "batch_size = 16\n",
    "\n",
    "train_ids = next(os.walk(train_path))[1] # Returns all directories under train_path\n",
    "\n",
    "val_data_size = 8 # Needs to be greater than batch_size\n",
    "\n",
    "valid_ids = train_ids[:val_data_size]\n",
    "train_ids = train_ids[val_data_size:]"
   ]
  },
  {
   "cell_type": "code",
   "execution_count": 5,
   "metadata": {},
   "outputs": [
    {
     "name": "stdout",
     "output_type": "stream",
     "text": [
      "(16, 48, 48, 48, 1) (16, 48, 48, 48, 1)\n"
     ]
    }
   ],
   "source": [
    "gen = DataGen(train_ids, train_path, batch_size=batch_size, image_size=image_size, patch_size=patch_size,\n",
    "              percent_covered = percent_covered)\n",
    "\n",
    "x, y = gen.__getitem__(0)\n",
    "print(x.shape, y.shape)"
   ]
  },
  {
   "cell_type": "code",
   "execution_count": 6,
   "metadata": {},
   "outputs": [
    {
     "name": "stdout",
     "output_type": "stream",
     "text": [
      "(48, 48, 1)\n",
      "4.464655061747252\n",
      "1.0\n"
     ]
    },
    {
     "data": {
      "image/png": "[encoded data removed]",
      "text/plain": [
       "<Figure size 432x288 with 1 Axes>"
      ]
     },
     "metadata": {},
     "output_type": "display_data"
    },
    {
     "data": {
      "image/png": "[encoded data removed]",
      "text/plain": [
       "<Figure size 432x288 with 1 Axes>"
      ]
     },
     "metadata": {},
     "output_type": "display_data"
    }
   ],
   "source": [
    "n=0\n",
    "z=8\n",
    "\n",
    "display_slice_from_batch(x, n, z)\n",
    "print(x[n, :, :, z].shape)\n",
    "print(np.amax(x[n, :, :, z]))\n",
    "print(np.amax(y[n]))\n",
    "\n",
    "\n",
    "display_slice_from_batch(y, n, z)\n"
   ]
  },
  {
   "cell_type": "code",
   "execution_count": 7,
   "metadata": {},
   "outputs": [],
   "source": [
    "def down_block(x, filters, kernel_size=(3, 3, 3), padding=\"same\", strides=(1, 1, 1)):\n",
    "    c = keras.layers.Conv3D(filters, kernel_size, padding=padding, strides=strides, activation=\"relu\")(x)\n",
    "    c = keras.layers.Conv3D(filters*2, kernel_size, padding=padding, strides=strides, activation=\"relu\")(c)\n",
    "    p = keras.layers.MaxPool3D((2, 2, 2))(c)\n",
    "    return c, p\n",
    "\n",
    "def up_block(x, skip, filters, kernel_size=(3, 3, 3), padding=\"same\", strides=(1, 1, 1)):\n",
    "    us = keras.layers.Conv3DTranspose(filters*4, (2, 2, 2), (2, 2, 2))(x)\n",
    "    concat = keras.layers.Concatenate()([us, skip])\n",
    "    c = keras.layers.Conv3D(filters*2, kernel_size, padding=padding, strides=strides, activation=\"relu\")(concat)\n",
    "    c = keras.layers.Conv3D(filters*2, kernel_size, padding=padding, strides=strides, activation=\"relu\")(c)\n",
    "    return c\n",
    "\n",
    "def bottleneck(x, filters, kernel_size=(3, 3, 3), padding=\"same\", strides=(1, 1, 1)):\n",
    "    c = keras.layers.Conv3D(filters, kernel_size, padding=padding, strides=strides, activation=\"relu\")(x)\n",
    "    c = keras.layers.Conv3D(filters*2, kernel_size, padding=padding, strides=strides, activation=\"relu\")(c)\n",
    "    return c"
   ]
  },
  {
   "cell_type": "code",
   "execution_count": 8,
   "metadata": {},
   "outputs": [],
   "source": [
    "def UNet():\n",
    "    #f = [16, 32, 64, 128, 256]\n",
    "    f = [32, 64, 128, 256]\n",
    "    inputs = keras.layers.Input((patch_size, patch_size, patch_size, 1))\n",
    "    \n",
    "    p0 = inputs\n",
    "    c1, p1 = down_block(p0, f[0]) #32 -> 16\n",
    "    c2, p2 = down_block(p1, f[1]) #16 -> 8\n",
    "    c3, p3 = down_block(p2, f[2]) #8 -> 4\n",
    "    #c4, p4 = down_block(p3, f[3]) #16->8\n",
    "    \n",
    "    bn = bottleneck(p3, f[3])\n",
    "    \n",
    "    u1 = up_block(bn, c3, f[2]) #4 -> 8\n",
    "    u2 = up_block(u1, c2, f[1]) #8 -> 16\n",
    "    u3 = up_block(u2, c1, f[0]) #16 -> 32\n",
    "    #u4 = up_block(u3, c1, f[0]) #64 -> 128\n",
    "    \n",
    "    outputs = keras.layers.Conv3D(1, (1, 1, 1), padding=\"same\", activation=\"sigmoid\")(u3)\n",
    "    model = keras.models.Model(inputs, outputs)\n",
    "    return model"
   ]
  },
  {
   "cell_type": "code",
   "execution_count": 9,
   "metadata": {
    "scrolled": true
   },
   "outputs": [
    {
     "name": "stdout",
     "output_type": "stream",
     "text": [
      "__________________________________________________________________________________________________\n",
      "Layer (type)                    Output Shape         Param #     Connected to                     \n",
      "==================================================================================================\n",
      "input_1 (InputLayer)            (None, 48, 48, 48, 1 0                                            \n",
      "__________________________________________________________________________________________________\n",
      "conv3d (Conv3D)                 (None, 48, 48, 48, 3 896         input_1[0][0]                    \n",
      "__________________________________________________________________________________________________\n",
      "conv3d_1 (Conv3D)               (None, 48, 48, 48, 6 55360       conv3d[0][0]                     \n",
      "__________________________________________________________________________________________________\n",
      "max_pooling3d (MaxPooling3D)    (None, 24, 24, 24, 6 0           conv3d_1[0][0]                   \n",
      "__________________________________________________________________________________________________\n",
      "conv3d_2 (Conv3D)               (None, 24, 24, 24, 6 110656      max_pooling3d[0][0]              \n",
      "__________________________________________________________________________________________________\n",
      "conv3d_3 (Conv3D)               (None, 24, 24, 24, 1 221312      conv3d_2[0][0]                   \n",
      "__________________________________________________________________________________________________\n",
      "max_pooling3d_1 (MaxPooling3D)  (None, 12, 12, 12, 1 0           conv3d_3[0][0]                   \n",
      "__________________________________________________________________________________________________\n",
      "conv3d_4 (Conv3D)               (None, 12, 12, 12, 1 442496      max_pooling3d_1[0][0]            \n",
      "__________________________________________________________________________________________________\n",
      "conv3d_5 (Conv3D)               (None, 12, 12, 12, 2 884992      conv3d_4[0][0]                   \n",
      "__________________________________________________________________________________________________\n",
      "max_pooling3d_2 (MaxPooling3D)  (None, 6, 6, 6, 256) 0           conv3d_5[0][0]                   \n",
      "__________________________________________________________________________________________________\n",
      "conv3d_6 (Conv3D)               (None, 6, 6, 6, 256) 1769728     max_pooling3d_2[0][0]            \n",
      "__________________________________________________________________________________________________\n",
      "conv3d_7 (Conv3D)               (None, 6, 6, 6, 512) 3539456     conv3d_6[0][0]                   \n",
      "__________________________________________________________________________________________________\n",
      "conv3d_transpose (Conv3DTranspo (None, 12, 12, 12, 5 2097664     conv3d_7[0][0]                   \n",
      "__________________________________________________________________________________________________\n",
      "concatenate (Concatenate)       (None, 12, 12, 12, 7 0           conv3d_transpose[0][0]           \n",
      "                                                                 conv3d_5[0][0]                   \n",
      "__________________________________________________________________________________________________\n",
      "conv3d_8 (Conv3D)               (None, 12, 12, 12, 2 5308672     concatenate[0][0]                \n",
      "__________________________________________________________________________________________________\n",
      "conv3d_9 (Conv3D)               (None, 12, 12, 12, 2 1769728     conv3d_8[0][0]                   \n",
      "__________________________________________________________________________________________________\n",
      "conv3d_transpose_1 (Conv3DTrans (None, 24, 24, 24, 2 524544      conv3d_9[0][0]                   \n",
      "__________________________________________________________________________________________________\n",
      "concatenate_1 (Concatenate)     (None, 24, 24, 24, 3 0           conv3d_transpose_1[0][0]         \n",
      "                                                                 conv3d_3[0][0]                   \n",
      "__________________________________________________________________________________________________\n",
      "conv3d_10 (Conv3D)              (None, 24, 24, 24, 1 1327232     concatenate_1[0][0]              \n",
      "__________________________________________________________________________________________________\n",
      "conv3d_11 (Conv3D)              (None, 24, 24, 24, 1 442496      conv3d_10[0][0]                  \n",
      "__________________________________________________________________________________________________\n",
      "conv3d_transpose_2 (Conv3DTrans (None, 48, 48, 48, 1 131200      conv3d_11[0][0]                  \n",
      "__________________________________________________________________________________________________\n",
      "concatenate_2 (Concatenate)     (None, 48, 48, 48, 1 0           conv3d_transpose_2[0][0]         \n",
      "                                                                 conv3d_1[0][0]                   \n",
      "__________________________________________________________________________________________________\n",
      "conv3d_12 (Conv3D)              (None, 48, 48, 48, 6 331840      concatenate_2[0][0]              \n",
      "__________________________________________________________________________________________________\n",
      "conv3d_13 (Conv3D)              (None, 48, 48, 48, 6 110656      conv3d_12[0][0]                  \n",
      "__________________________________________________________________________________________________\n",
      "conv3d_14 (Conv3D)              (None, 48, 48, 48, 1 65          conv3d_13[0][0]                  \n",
      "==================================================================================================\n",
      "Total params: 19,068,993\n",
      "Trainable params: 19,068,993\n",
      "Non-trainable params: 0\n",
      "__________________________________________________________________________________________________\n"
     ]
    }
   ],
   "source": [
    "model = UNet()\n",
    "model.compile(optimizer=tf.keras.optimizers.Adam(lr=1e-5), loss=dice_loss(smooth=1.), metrics=[dice_coef, 'accuracy'])#, sample_weight_mode=\"temporal\")\n",
    "model.summary()\n",
    "\n",
    "#TODO Does valid_gen use percent_covered = 0 or nonzero?\n",
    "train_gen = DataGen(train_ids, train_path, image_size=image_size, patch_size=patch_size, batch_size=batch_size, percent_covered=percent_covered)\n",
    "valid_gen = DataGen(valid_ids, train_path, image_size=image_size, patch_size=patch_size, batch_size=batch_size, percent_covered=percent_covered)"
   ]
  },
  {
   "cell_type": "code",
   "execution_count": 10,
   "metadata": {
    "scrolled": false
   },
   "outputs": [
    {
     "name": "stdout",
     "output_type": "stream",
     "text": [
      "Epoch 1/70\n",
      "245/246 [============================>.] - ETA: 2s - loss: -0.3915 - dice_coef: 0.3915 - acc: 0.9406\n",
      "Epoch 00001: val_loss improved from inf to -0.80656, saving model to oct13_largeframePSNR5_5000_48_nonzero_standardized_local_more-epochs.h5\n",
      "246/246 [==============================] - 727s 3s/step - loss: -0.3931 - dice_coef: 0.3931 - acc: 0.9408 - val_loss: -0.8066 - val_dice_coef: 0.8066 - val_acc: 0.9984\n",
      "Epoch 2/70\n",
      "245/246 [============================>.] - ETA: 2s - loss: -0.8407 - dice_coef: 0.8407 - acc: 0.9986\n",
      "Epoch 00002: val_loss improved from -0.80656 to -0.85907, saving model to oct13_largeframePSNR5_5000_48_nonzero_standardized_local_more-epochs.h5\n",
      "246/246 [==============================] - 662s 3s/step - loss: -0.8408 - dice_coef: 0.8408 - acc: 0.9986 - val_loss: -0.8591 - val_dice_coef: 0.8591 - val_acc: 0.9987\n",
      "Epoch 3/70\n",
      "245/246 [============================>.] - ETA: 2s - loss: -0.8694 - dice_coef: 0.8694 - acc: 0.9988\n",
      "Epoch 00003: val_loss improved from -0.85907 to -0.87763, saving model to oct13_largeframePSNR5_5000_48_nonzero_standardized_local_more-epochs.h5\n",
      "246/246 [==============================] - 661s 3s/step - loss: -0.8693 - dice_coef: 0.8693 - acc: 0.9988 - val_loss: -0.8776 - val_dice_coef: 0.8776 - val_acc: 0.9989\n",
      "Epoch 4/70\n",
      "245/246 [============================>.] - ETA: 2s - loss: -0.8820 - dice_coef: 0.8820 - acc: 0.9989\n",
      "Epoch 00004: val_loss improved from -0.87763 to -0.88585, saving model to oct13_largeframePSNR5_5000_48_nonzero_standardized_local_more-epochs.h5\n",
      "246/246 [==============================] - 660s 3s/step - loss: -0.8820 - dice_coef: 0.8820 - acc: 0.9989 - val_loss: -0.8859 - val_dice_coef: 0.8859 - val_acc: 0.9989\n",
      "Epoch 5/70\n",
      "245/246 [============================>.] - ETA: 2s - loss: -0.8906 - dice_coef: 0.8906 - acc: 0.9989\n",
      "Epoch 00005: val_loss improved from -0.88585 to -0.89147, saving model to oct13_largeframePSNR5_5000_48_nonzero_standardized_local_more-epochs.h5\n",
      "246/246 [==============================] - 660s 3s/step - loss: -0.8906 - dice_coef: 0.8906 - acc: 0.9989 - val_loss: -0.8915 - val_dice_coef: 0.8915 - val_acc: 0.9990\n",
      "Epoch 6/70\n",
      "245/246 [============================>.] - ETA: 2s - loss: -0.8973 - dice_coef: 0.8973 - acc: 0.9990\n",
      "Epoch 00006: val_loss improved from -0.89147 to -0.89492, saving model to oct13_largeframePSNR5_5000_48_nonzero_standardized_local_more-epochs.h5\n",
      "246/246 [==============================] - 660s 3s/step - loss: -0.8974 - dice_coef: 0.8974 - acc: 0.9990 - val_loss: -0.8949 - val_dice_coef: 0.8949 - val_acc: 0.9990\n",
      "Epoch 7/70\n",
      "245/246 [============================>.] - ETA: 2s - loss: -0.9037 - dice_coef: 0.9037 - acc: 0.9990\n",
      "Epoch 00007: val_loss improved from -0.89492 to -0.89763, saving model to oct13_largeframePSNR5_5000_48_nonzero_standardized_local_more-epochs.h5\n",
      "246/246 [==============================] - 660s 3s/step - loss: -0.9037 - dice_coef: 0.9037 - acc: 0.9990 - val_loss: -0.8976 - val_dice_coef: 0.8976 - val_acc: 0.9990\n",
      "Epoch 8/70\n",
      "245/246 [============================>.] - ETA: 2s - loss: -0.9086 - dice_coef: 0.9086 - acc: 0.9991\n",
      "Epoch 00008: val_loss improved from -0.89763 to -0.90024, saving model to oct13_largeframePSNR5_5000_48_nonzero_standardized_local_more-epochs.h5\n",
      "246/246 [==============================] - 658s 3s/step - loss: -0.9086 - dice_coef: 0.9086 - acc: 0.9991 - val_loss: -0.9002 - val_dice_coef: 0.9002 - val_acc: 0.9990\n",
      "Epoch 9/70\n",
      "245/246 [============================>.] - ETA: 2s - loss: -0.9136 - dice_coef: 0.9136 - acc: 0.9991\n",
      "Epoch 00009: val_loss improved from -0.90024 to -0.90205, saving model to oct13_largeframePSNR5_5000_48_nonzero_standardized_local_more-epochs.h5\n",
      "246/246 [==============================] - 650s 3s/step - loss: -0.9137 - dice_coef: 0.9137 - acc: 0.9991 - val_loss: -0.9020 - val_dice_coef: 0.9020 - val_acc: 0.9991\n",
      "Epoch 10/70\n",
      "245/246 [============================>.] - ETA: 2s - loss: -0.9183 - dice_coef: 0.9183 - acc: 0.9992\n",
      "Epoch 00010: val_loss improved from -0.90205 to -0.90351, saving model to oct13_largeframePSNR5_5000_48_nonzero_standardized_local_more-epochs.h5\n",
      "246/246 [==============================] - 638s 3s/step - loss: -0.9183 - dice_coef: 0.9183 - acc: 0.9992 - val_loss: -0.9035 - val_dice_coef: 0.9035 - val_acc: 0.9991\n",
      "Epoch 11/70\n",
      "245/246 [============================>.] - ETA: 2s - loss: -0.9226 - dice_coef: 0.9226 - acc: 0.9992\n",
      "Epoch 00011: val_loss did not improve from -0.90351\n",
      "246/246 [==============================] - 634s 3s/step - loss: -0.9226 - dice_coef: 0.9226 - acc: 0.9992 - val_loss: -0.9028 - val_dice_coef: 0.9028 - val_acc: 0.9991\n",
      "Epoch 12/70\n",
      "245/246 [============================>.] - ETA: 2s - loss: -0.9264 - dice_coef: 0.9264 - acc: 0.9993\n",
      "Epoch 00012: val_loss improved from -0.90351 to -0.90365, saving model to oct13_largeframePSNR5_5000_48_nonzero_standardized_local_more-epochs.h5\n",
      "246/246 [==============================] - 630s 3s/step - loss: -0.9264 - dice_coef: 0.9264 - acc: 0.9993 - val_loss: -0.9037 - val_dice_coef: 0.9037 - val_acc: 0.9991\n",
      "Epoch 13/70\n",
      "245/246 [============================>.] - ETA: 2s - loss: -0.9299 - dice_coef: 0.9299 - acc: 0.9993\n",
      "Epoch 00013: val_loss did not improve from -0.90365\n",
      "246/246 [==============================] - 630s 3s/step - loss: -0.9299 - dice_coef: 0.9299 - acc: 0.9993 - val_loss: -0.9020 - val_dice_coef: 0.9020 - val_acc: 0.9991\n",
      "Epoch 14/70\n",
      "245/246 [============================>.] - ETA: 2s - loss: -0.9345 - dice_coef: 0.9345 - acc: 0.9993\n",
      "Epoch 00014: val_loss did not improve from -0.90365\n",
      "\n",
      "Epoch 00014: ReduceLROnPlateau reducing learning rate to 4.999999873689376e-06.\n",
      "246/246 [==============================] - 629s 3s/step - loss: -0.9345 - dice_coef: 0.9345 - acc: 0.9993 - val_loss: -0.9023 - val_dice_coef: 0.9023 - val_acc: 0.9991\n",
      "Epoch 15/70\n",
      "245/246 [============================>.] - ETA: 2s - loss: -0.9411 - dice_coef: 0.9411 - acc: 0.9994\n",
      "Epoch 00015: val_loss did not improve from -0.90365\n",
      "246/246 [==============================] - 628s 3s/step - loss: -0.9411 - dice_coef: 0.9411 - acc: 0.9994 - val_loss: -0.9018 - val_dice_coef: 0.9018 - val_acc: 0.9991\n",
      "Epoch 16/70\n",
      "245/246 [============================>.] - ETA: 2s - loss: -0.9436 - dice_coef: 0.9436 - acc: 0.9994\n",
      "Epoch 00016: val_loss did not improve from -0.90365\n",
      "\n",
      "Epoch 00016: ReduceLROnPlateau reducing learning rate to 2.499999936844688e-06.\n",
      "246/246 [==============================] - 629s 3s/step - loss: -0.9436 - dice_coef: 0.9436 - acc: 0.9994 - val_loss: -0.9017 - val_dice_coef: 0.9017 - val_acc: 0.9990\n",
      "Epoch 00016: early stopping\n"
     ]
    }
   ],
   "source": [
    "#TODO Account for filtered patchese\n",
    "train_steps = len(train_ids)*8//batch_size\n",
    "valid_steps = len(valid_ids)*8//batch_size\n",
    "\n",
    "callbacks = [EarlyStopping(monitor='val_loss', patience=patience, verbose=1),\n",
    "             ModelCheckpoint(filepath=model_path, monitor='val_loss', save_best_only=True, verbose=1),\n",
    "             ReduceLROnPlateau(factor=0.5, patience=2, verbose=1)]\n",
    "\n",
    "history = model.fit_generator(train_gen, validation_data=valid_gen, steps_per_epoch=train_steps, validation_steps=valid_steps, \n",
    "                    epochs=epochs, callbacks=callbacks)"
   ]
  },
  {
   "cell_type": "code",
   "execution_count": 11,
   "metadata": {},
   "outputs": [],
   "source": [
    "import pickle\n",
    "with open('trainHistoryDict_psnr5_5000_more-epochs', 'wb') as handle: # saving the history of the model\n",
    "    pickle.dump(history.history, handle)"
   ]
  },
  {
   "cell_type": "code",
   "execution_count": 12,
   "metadata": {},
   "outputs": [
    {
     "name": "stdout",
     "output_type": "stream",
     "text": [
      "dict_keys(['loss', 'val_acc', 'val_dice_coef', 'acc', 'val_loss', 'dice_coef', 'lr'])\n"
     ]
    },
    {
     "data": {
      "image/png": "[encoded data removed]",
      "text/plain": [
       "<Figure size 432x288 with 1 Axes>"
      ]
     },
     "metadata": {},
     "output_type": "display_data"
    },
    {
     "data": {
      "image/png": "[encoded data removed]",
      "text/plain": [
       "<Figure size 432x288 with 1 Axes>"
      ]
     },
     "metadata": {},
     "output_type": "display_data"
    }
   ],
   "source": [
    "import matplotlib.pyplot as plt\n",
    "%matplotlib inline\n",
    "\n",
    "print(history.history.keys())\n",
    "# summarize history for accuracy\n",
    "plt.plot(history.history['acc'])\n",
    "plt.plot(history.history['val_acc'])\n",
    "plt.title('model accuracy')\n",
    "plt.ylabel('accuracy')\n",
    "plt.xlabel('epoch')\n",
    "plt.legend(['train', 'test'], loc='upper left')\n",
    "plt.show()\n",
    "# summarize history for loss\n",
    "plt.plot(history.history['loss'])\n",
    "plt.plot(history.history['val_loss'])\n",
    "plt.title('model loss')\n",
    "plt.ylabel('loss')\n",
    "plt.xlabel('epoch')\n",
    "plt.legend(['train', 'test'], loc='upper left')\n",
    "plt.show()"
   ]
  },
  {
   "cell_type": "code",
   "execution_count": null,
   "metadata": {},
   "outputs": [],
   "source": [
    "## Save the Weights\n",
    "#model.save_weights(\"UNet3D1.h5\")\n",
    "\n",
    "## Dataset for prediction\n",
    "test_gen = DataGen(valid_ids, train_path, image_size=image_size, patch_size=patch_size, batch_size=batch_size, percent_covered=0)\n",
    "x, y = test_gen.__getitem__(0)\n",
    "print(x.shape)\n",
    "#result = model.predict(x)\n",
    "#print(np.amax(result))\n",
    "#print(np.count_nonzero(result == 1.0))\n",
    "#print(result.shape)\n",
    "#result = result > 0.5\n",
    "\n",
    "#print(np.count_nonzero(result == 1.0))\n",
    "#print(result.shape)\n",
    "#print(np.where(result[0]==1.0)[0])\n",
    "#print(result[0])\n",
    "\n",
    "n=100\n",
    "z=8\n",
    "\n",
    "display_slice_from_batch(x,n,z)\n",
    "\n",
    "display_slice_from_batch(y,n,z)\n",
    "\n",
    "display_slice_from_batch(result,n,z)"
   ]
  },
  {
   "cell_type": "code",
   "execution_count": null,
   "metadata": {},
   "outputs": [],
   "source": []
  }
 ],
 "metadata": {
  "kernelspec": {
   "display_name": "Python 3",
   "language": "python",
   "name": "python3"
  },
  "language_info": {
   "codemirror_mode": {
    "name": "ipython",
    "version": 3
   },
   "file_extension": ".py",
   "mimetype": "text/x-python",
   "name": "python",
   "nbconvert_exporter": "python",
   "pygments_lexer": "ipython3",
   "version": "3.5.3"
  }
 },
 "nbformat": 4,
 "nbformat_minor": 2
}
