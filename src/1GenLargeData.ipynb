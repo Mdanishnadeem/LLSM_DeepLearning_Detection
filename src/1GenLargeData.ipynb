{
 "cells": [
  {
   "cell_type": "code",
   "execution_count": 1,
   "metadata": {},
   "outputs": [],
   "source": [
    "import numpy as np\n",
    "import skimage\n",
    "from skimage.util.shape import view_as_blocks\n",
    "import os\n",
    "import shutil\n",
    "import json"
   ]
  },
  {
   "cell_type": "code",
   "execution_count": 2,
   "metadata": {},
   "outputs": [],
   "source": [
    "image_path = \"/home/gauthamar11/pyLattice2/src/tensorflow/quickUnet/dataset/extras/S3P5_488_150mw_560_300mw_Objdz150nm_ch1_CAM1_stack0001_560nm_0005689msec_0090121790msecAbs_000x_000y_003z_0000t_decon.tif\"\n",
    "mask_path= \"/home/gauthamar11/pyLattice2/src/tensorflow/quickUnet/dataset/extras/dmask_02.tif\"\n",
    "split_directory=\"/home/gauthamar11/pyLattice2/src/tensorflow/quickUnet/genData/\"\n",
    "patch_size = 96\n",
    "train_split = 1 #Trying to get coverage of whole large dataset frame. Can change once we use more frames of our large data\n",
    "\n",
    "if \"train\" not in os.listdir(split_directory):\n",
    "    os.mkdir(split_directory+\"train/\")\n",
    "if \"test\" not in os.listdir(split_directory):\n",
    "    os.mkdir(split_directory+\"test/\")"
   ]
  },
  {
   "cell_type": "code",
   "execution_count": 5,
   "metadata": {},
   "outputs": [
    {
     "name": "stdout",
     "output_type": "stream",
     "text": [
      "Image cropped to: 192, 672, 576\n",
      "(192, 672, 576)\n",
      "(192, 672, 576)\n",
      "255\n"
     ]
    }
   ],
   "source": [
    "latticeMovieImage = skimage.external.tifffile.imread(image_path)\n",
    "latticeMovieMask = skimage.external.tifffile.imread(mask_path)\n",
    "offset=np.asarray([0,0,0])\n",
    "\n",
    "x_extra = latticeMovieImage.shape[0]%patch_size\n",
    "x_size = latticeMovieImage.shape[0] - x_extra\n",
    "if offset[0] > x_extra:\n",
    "    print(\"1st dim offset exceeds image dim\")\n",
    "    offset[0] = 0\n",
    "    \n",
    "y_extra = latticeMovieImage.shape[1]%patch_size\n",
    "y_size = latticeMovieImage.shape[1] - y_extra\n",
    "if offset[1] > y_extra:\n",
    "    print(\"2st dim offset exceeds image dim\")\n",
    "    offset[1] = 0\n",
    "    \n",
    "z_extra = latticeMovieImage.shape[2]%patch_size\n",
    "z_size = latticeMovieImage.shape[2] - z_extra\n",
    "if offset[2] > z_extra:\n",
    "    print(\"3rd dim offset exceeds image dim\")\n",
    "    offset[2] = 0\n",
    "    \n",
    "latticeMovieImage = latticeMovieImage[offset[0]:x_size+offset[0], offset[1]:y_size+offset[1], offset[2]:z_size+offset[2]]\n",
    "latticeMovieMask = latticeMovieMask[offset[0]:x_size+offset[0], offset[1]:y_size+offset[1], offset[2]:z_size+offset[2]]\n",
    "print(\"Image cropped to: \" + str(x_size) + \", \" + str(y_size) + \", \" + str(z_size))\n",
    "\n",
    "print(latticeMovieImage.shape)\n",
    "print(latticeMovieMask.shape)\n",
    "print(np.amax(latticeMovieMask))"
   ]
  },
  {
   "cell_type": "code",
   "execution_count": 5,
   "metadata": {},
   "outputs": [
    {
     "name": "stderr",
     "output_type": "stream",
     "text": [
      "/usr/local/lib/python3.5/dist-packages/skimage/util/shape.py:94: RuntimeWarning: Cannot provide views on a non-contiguous input array without copying.\n",
      "  warn(RuntimeWarning(\"Cannot provide views on a non-contiguous input \"\n"
     ]
    },
    {
     "name": "stdout",
     "output_type": "stream",
     "text": [
      "(84, 96, 96, 96)\n",
      "(84, 96, 96, 96)\n"
     ]
    }
   ],
   "source": [
    "lattice_patches = view_as_blocks(latticeMovieImage, block_shape=(patch_size, patch_size, patch_size))\n",
    "lattice_patches = lattice_patches.reshape(int(x_size/patch_size)*int(y_size/patch_size)*int(z_size/patch_size), patch_size, patch_size, patch_size)\n",
    "\n",
    "\n",
    "mask_patches = view_as_blocks(latticeMovieMask, block_shape=(patch_size, patch_size, patch_size))\n",
    "mask_patches = mask_patches.reshape(int(x_size/patch_size)*int(y_size/patch_size)*int(z_size/patch_size), patch_size, patch_size, patch_size)\n",
    "\n",
    "\n",
    "print(lattice_patches.shape)\n",
    "print(mask_patches.shape)"
   ]
  },
  {
   "cell_type": "code",
   "execution_count": 7,
   "metadata": {},
   "outputs": [],
   "source": [
    "num_patches = lattice_patches.shape[0]\n",
    "\n",
    "for k in range(0, num_patches):\n",
    "    x_file = lattice_patches[k].astype('uint16')\n",
    "    y_file = mask_patches[k].astype('uint16')\n",
    "    \n",
    "    metadata_x = dict(microscope='joh', shape=x_file.shape, dtype=x_file.dtype.str)\n",
    "    metadata_x = json.dumps(metadata_x)\n",
    "    \n",
    "    metadata_y = dict(microscope='joh', shape=y_file.shape, dtype=y_file.dtype.str)\n",
    "    metadata_y = json.dumps(metadata_y)\n",
    "    \n",
    "    os.mkdir(split_directory+\"train/Region\"+str(k)+\"/\")\n",
    "    skimage.external.tifffile.imsave(split_directory+\"train/Region\"+str(k)+\"/\"+\"lattice_light_sheet.tif\", x_file, description=metadata_x)\n",
    "    skimage.external.tifffile.imsave(split_directory+\"train/Region\"+str(k)+\"/\"+\"truth.tif\", y_file, description=metadata_y)\n",
    "    "
   ]
  },
  {
   "cell_type": "code",
   "execution_count": null,
   "metadata": {},
   "outputs": [],
   "source": []
  }
 ],
 "metadata": {
  "kernelspec": {
   "display_name": "Python 3",
   "language": "python",
   "name": "python3"
  },
  "language_info": {
   "codemirror_mode": {
    "name": "ipython",
    "version": 3
   },
   "file_extension": ".py",
   "mimetype": "text/x-python",
   "name": "python",
   "nbconvert_exporter": "python",
   "pygments_lexer": "ipython3",
   "version": "3.5.3"
  }
 },
 "nbformat": 4,
 "nbformat_minor": 2
}
